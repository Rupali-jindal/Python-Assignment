 {
 "cells": [
  {
   "cell_type": "code",
   "execution_count": 13,
   "id": "9fee7566",
   "metadata": {},
   "outputs": [],
   "source": [
    "segment=\"the line is made up of so many words. this is it. I have added this line. ONLINE CHANGES\""
   ]
  },
  {
   "cell_type": "code",
   "execution_count": 23,
   "id": "8e7062b4",
   "metadata": {},
   "outputs": [],
   "source": [
    "segment=segment.replace(\".\",\"\")"
   ]
  },
  {
   "cell_type": "code",
   "execution_count": 24,
   "id": "114bdf03",
   "metadata": {},
   "outputs": [],
   "source": [
    "x=segment.split(\" \")"
   ]
  },
  {
   "cell_type": "code",
   "execution_count": 31,
   "id": "24014021",
   "metadata": {},
   "outputs": [
    {
     "data": {
      "text/plain": [
       "list"
      ]
     },
     "execution_count": 31,
     "metadata": {},
     "output_type": "execute_result"
    }
   ],
   "source": [
    "type(x)"
   ]
  },
  {
   "cell_type": "code",
   "execution_count": 30,
   "id": "b620f561",
   "metadata": {},
   "outputs": [
    {
     "data": {
      "text/plain": [
       "13"
      ]
     },
     "execution_count": 30,
     "metadata": {},
     "output_type": "execute_result"
    }
   ],
   "source": []
  },
  {
   "cell_type": "code",
   "execution_count": 33,
   "id": "de5d3e2a",
   "metadata": {},
   "outputs": [
    {
     "name": "stdout",
     "output_type": "stream",
     "text": [
      "is\n",
      "['the', 'line', 'is', 'made', 'up', 'of', 'so', 'many', 'words', '', 'this', 'is', 'it']\n",
      "['the', 'line', 'is', 'made', 'up', 'of', 'so', 'many', 'words', '', 'this', 'is', 'it']\n"
     ]
    }
   ],
   "source": [
    "word = input()\n",
    "for i in range(len(x)):\n",
    "    if x[i]==word:\n",
    "        print(x)"
   ]
  },
  {
   "cell_type": "code",
   "execution_count": null,
   "id": "014f2fcb",
   "metadata": {},
   "outputs": [],
   "source": [
    "DictionaryOfWords = {}         #Dictionary mapping every word to a list (of indices of the words' occurences)\n",
    "Novel = []                     #List of all words in the order, in which they appear! Something added\n",
    "\n",
    "\n",
    "\n",
    "i = 0                   #Counter Variable to keep track of index of words. I have adde another file on online computer, some comment\n",
    "\n",
    "for line in File.readlines():     #Iterate over all lines present in the text\n",
    "    \n",
    "    #Look at Python's Conciseness!\n",
    "    \n",
    "    line = line.replace(\".\",\"\").replace(\",\",\"\").replace('?','').replace('!','').replace('[','').replace(']','') \\ \n",
    "    .replace('(','').replace(')','').replace('%','').replace('/','').replace('\\','')\n",
    "      \n",
    "    #COMPLETE THE CODE FROM HERE:\n",
    "    \n",
    "    #This would split the line into many different words, and iterate over these words\n",
    "    \n",
    "    for word in line.split(' '): \n",
    "                                                                             \n",
    "        if ________ in DictonaryOfWords.keys():     #If the word is already present in the dictionary\n",
    "                                                                             \n",
    "            ______________        #Add the index into the pre-existing list for this word\n",
    "                                                                             \n",
    "        else:\n",
    "            ______________        #Create a new list of indices for this word, with a single element\n",
    "                                                                             \n",
    "        \n",
    "        Novel.append(_____)        #Add the Word in the Novel's ordered list of words\n",
    "                                                                             \n",
    "        i+=1"
   ]
  }
 ],
 "metadata": {
  "kernelspec": {
   "display_name": "Python 3",
   "language": "python",
   "name": "python3"
  },
  "language_info": {
   "codemirror_mode": {
    "name": "ipython",
    "version": 3
   },
   "file_extension": ".py",
   "mimetype": "text/x-python",
   "name": "python",
   "nbconvert_exporter": "python",
   "pygments_lexer": "ipython3",
   "version": "3.9.1"
  }
 },
 "nbformat": 4,
 "nbformat_minor": 5
}
